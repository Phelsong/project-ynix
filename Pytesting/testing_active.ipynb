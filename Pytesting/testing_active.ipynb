{
 "cells": [
  {
   "cell_type": "code",
   "execution_count": 580,
   "metadata": {},
   "outputs": [],
   "source": [
    "import random\n",
    "#offensive stats\n",
    "ap = 532\n",
    "ap_range = ap - 6 + random.randrange(1,12)\n",
    "aap = 542\n",
    "acc = 814\n",
    "acc_rate = .07\n",
    "monster_ap = 165\n",
    "kama_damage = 40\n",
    "demi_damage = 18\n",
    "human_damage = 45\n",
    "crit_damage = 1\n",
    "back_damage = .5\n",
    "ap_combat_buffs = 0\n",
    "ap_debuffs = 0\n",
    "acc_combat_buffs = .06\n",
    "acc_debuffs = 0\n",
    "\n",
    "t_ap = ap + monster_ap + (human_damage * .5) + ap_combat_buffs - ap_debuffs\n",
    "t_acc_rate = acc_rate + acc_combat_buffs + (acc * .21) - acc_debuffs"
   ]
  },
  {
   "cell_type": "code",
   "execution_count": 581,
   "metadata": {},
   "outputs": [],
   "source": [
    "#defensive_stats test\n",
    "dr_debuffs = 0\n",
    "dr_combat_buffs = 0\n",
    "evasion_combat_buffs = 0\n",
    "evasion_debuffs = .09\n",
    "dr = 750\n",
    "#dr_rate = 1\n",
    "evasion = 0 \n",
    "evasion_rate = 0\n",
    "\n",
    "t_dr = dr + dr_combat_buffs - dr_debuffs\n",
    "t_evasion_rate = evasion_rate + (evasion * .21) + evasion_combat_buffs - evasion_debuffs\n"
   ]
  },
  {
   "cell_type": "code",
   "execution_count": 582,
   "metadata": {},
   "outputs": [],
   "source": [
    "#test skill\n",
    "hit1=16.63\n",
    "hit1_count = 29\n",
    "hit2=8.89\n",
    "hit2_count = 27\n",
    "hit3=7.92\n",
    "hit3_count = 37\n",
    "#Critical Hit Rate +50% for attack 3 hits (PvE only)\n",
    "skill_accuracy = .11"
   ]
  },
  {
   "cell_type": "code",
   "execution_count": 583,
   "metadata": {},
   "outputs": [
    {
     "name": "stdout",
     "output_type": "stream",
     "text": [
      "mean hit is: 804.508\n",
      "hit range is: 724.6840000000001 - 884.332\n",
      "total possible skill hit1 damage is: 23330.732\n"
     ]
    }
   ],
   "source": [
    "#test output\n",
    "\n",
    "unmitigated_damage = t_ap-t_dr\n",
    "unmitigated_damage_low = t_ap-6-t_dr\n",
    "unmitigated_damage_high = t_ap+6-t_dr\n",
    "\n",
    "hit_damage = ((unmitigated_damage if unmitigated_damage > 0 else 0) * hit1 + t_ap)*.8\n",
    "\n",
    "hit_damage_range_low = ((unmitigated_damage_low if unmitigated_damage_low > 0 else 0) * hit1 + t_ap)*.8\n",
    "\n",
    "hit_damage_range_high = ((unmitigated_damage_high if unmitigated_damage_high > 0 else 0) * hit1 + t_ap)*.8\n",
    "\n",
    "print(\"mean hit is:\", hit_damage)\n",
    "print(\"hit range is:\", hit_damage_range_low, \"-\", hit_damage_range_high)\n",
    "print(\"total possible skill hit1 damage is:\", hit_damage * hit1_count)"
   ]
  },
  {
   "cell_type": "code",
   "execution_count": null,
   "metadata": {},
   "outputs": [],
   "source": []
  }
 ],
 "metadata": {
  "kernelspec": {
   "display_name": "Python 3.10.5 64-bit (windows store)",
   "language": "python",
   "name": "python3"
  },
  "language_info": {
   "codemirror_mode": {
    "name": "ipython",
    "version": 3
   },
   "file_extension": ".py",
   "mimetype": "text/x-python",
   "name": "python",
   "nbconvert_exporter": "python",
   "pygments_lexer": "ipython3",
   "version": "3.10.5"
  },
  "orig_nbformat": 4,
  "vscode": {
   "interpreter": {
    "hash": "dcd9081d4ecf07a36cd958ad38b3c59d9ff604b7a6d5359a0eb669f3a39ef8a0"
   }
  }
 },
 "nbformat": 4,
 "nbformat_minor": 2
}
