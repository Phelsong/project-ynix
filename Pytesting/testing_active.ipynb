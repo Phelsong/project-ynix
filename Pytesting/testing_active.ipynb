{
 "cells": [
  {
   "cell_type": "code",
   "execution_count": 730,
   "metadata": {},
   "outputs": [],
   "source": [
    "import random\n",
    "#offensive stats\n",
    "ap = 532\n",
    "ap_range = ap - 6 + random.randrange(1,12)\n",
    "aap = 542\n",
    "acc = 814\n",
    "acc_rate = .07\n",
    "monster_ap = 165\n",
    "kama_damage = 40\n",
    "demi_damage = 18\n",
    "human_damage = 45\n",
    "crit_damage = 1\n",
    "back_damage = .5\n",
    "ap_combat_buffs = 0\n",
    "ap_debuffs = 0\n",
    "acc_combat_buffs = .06\n",
    "acc_debuffs = 0\n",
    "human_damage_debuffs = 0\n",
    "\n",
    "t_ap = ap + monster_ap + ap_combat_buffs - ap_debuffs\n",
    "ap_range_low = t_ap - 6\n",
    "ap_range_high = t_ap + 6\n",
    "t_acc_rate = acc_rate + acc_combat_buffs + (acc * .21) - acc_debuffs"
   ]
  },
  {
   "cell_type": "code",
   "execution_count": 731,
   "metadata": {},
   "outputs": [],
   "source": [
    "#defensive_stats test\n",
    "dr_debuffs = 0\n",
    "dr_combat_buffs = 0\n",
    "evasion_combat_buffs = 0\n",
    "evasion_debuffs = .09\n",
    "dr = 750\n",
    "#dr_rate = 1\n",
    "evasion = 0 \n",
    "evasion_rate = 0\n",
    "\n",
    "t_dr = dr + dr_combat_buffs - dr_debuffs\n",
    "t_evasion_rate = evasion_rate + (evasion * .21) + evasion_combat_buffs - evasion_debuffs\n"
   ]
  },
  {
   "cell_type": "code",
   "execution_count": 732,
   "metadata": {},
   "outputs": [],
   "source": [
    "#test skill\n",
    "hit1=16.63\n",
    "hit1_count = 3\n",
    "skill_accuracy = .11"
   ]
  },
  {
   "cell_type": "code",
   "execution_count": 733,
   "metadata": {},
   "outputs": [
    {
     "name": "stdout",
     "output_type": "stream",
     "text": [
      "mean hit is: 557.6\n",
      "hit range is: 856.94 - 557.6\n",
      "total possible skill hit1 damage is: 1672.8000000000002\n"
     ]
    }
   ],
   "source": [
    "#test output\n",
    "\n",
    "human_ap = (human_damage * 2)\n",
    "\n",
    "unmitigated_damage_mean = t_ap-t_dr\n",
    "mitigated_damage = ap_range_low-t_dr\n",
    "unmitigated_damage_low = (human_damage - abs(mitigated_damage)/2)*2 if mitigated_damage > 0 else human_damage*.5 \n",
    "unmitigated_damage_high = ap_range_high-t_dr\n",
    "\n",
    "hit_damage = ((unmitigated_damage if unmitigated_damage > 0 else 0) * hit1 + t_ap)*.8\n",
    "\n",
    "hit_damage_range_low = ((unmitigated_damage_low if unmitigated_damage_low > 0 else 0) * hit1 + t_ap)*.8\n",
    "\n",
    "hit_damage_range_high = ((unmitigated_damage_high if unmitigated_damage_high > 0 else 0) * hit1 + t_ap)*.8\n",
    "\n",
    "print(\"mean hit is:\", hit_damage)\n",
    "print(\"hit range is:\", hit_damage_range_low, \"-\", hit_damage_range_high)\n",
    "print(\"total possible skill hit1 damage is:\", hit_damage * hit1_count)"
   ]
  },
  {
   "cell_type": "code",
   "execution_count": null,
   "metadata": {},
   "outputs": [],
   "source": []
  }
 ],
 "metadata": {
  "kernelspec": {
   "display_name": "Python 3.10.5 64-bit (windows store)",
   "language": "python",
   "name": "python3"
  },
  "language_info": {
   "codemirror_mode": {
    "name": "ipython",
    "version": 3
   },
   "file_extension": ".py",
   "mimetype": "text/x-python",
   "name": "python",
   "nbconvert_exporter": "python",
   "pygments_lexer": "ipython3",
   "version": "3.10.5"
  },
  "orig_nbformat": 4,
  "vscode": {
   "interpreter": {
    "hash": "dcd9081d4ecf07a36cd958ad38b3c59d9ff604b7a6d5359a0eb669f3a39ef8a0"
   }
  }
 },
 "nbformat": 4,
 "nbformat_minor": 2
}
