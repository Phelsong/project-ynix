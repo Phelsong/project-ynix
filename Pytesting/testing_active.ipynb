{
 "cells": [
  {
   "cell_type": "code",
   "execution_count": 1014,
   "metadata": {},
   "outputs": [],
   "source": [
    "import random\n",
    "#offensive stats\n",
    "ap = 588\n",
    "aap = 542\n",
    "acc = 814\n",
    "acc_rate = .07\n",
    "monster_ap = 165\n",
    "kama_damage = 40\n",
    "demi_damage = 18\n",
    "human_damage = 40\n",
    "crit_damage = 1\n",
    "back_damage = .5\n",
    "ap_combat_buffs = 0\n",
    "ap_debuffs = 0\n",
    "acc_combat_buffs = .06\n",
    "acc_debuffs = 0\n",
    "human_damage_debuffs = 0\n",
    "\n",
    "t_ap = ap + monster_ap + ap_combat_buffs - ap_debuffs\n",
    "t_acc_rate = acc_rate + acc_combat_buffs + (acc * .21) - acc_debuffs"
   ]
  },
  {
   "cell_type": "code",
   "execution_count": 1015,
   "metadata": {},
   "outputs": [],
   "source": [
    "#defensive_stats test\n",
    "dr_debuffs = 0\n",
    "dr_combat_buffs = 0\n",
    "evasion_combat_buffs = 0\n",
    "evasion_debuffs = .09\n",
    "dr = 410\n",
    "#dr_rate = 1\n",
    "evasion = 0 \n",
    "evasion_rate = 0\n",
    "\n",
    "t_dr = dr + dr_combat_buffs - dr_debuffs\n",
    "t_evasion_rate = evasion_rate + (evasion * .21) + evasion_combat_buffs - evasion_debuffs\n"
   ]
  },
  {
   "cell_type": "code",
   "execution_count": 1016,
   "metadata": {},
   "outputs": [],
   "source": [
    "#test skill\n",
    "hit1=16.63\n",
    "hit1_count = 3\n",
    "skill_accuracy = .11"
   ]
  },
  {
   "cell_type": "code",
   "execution_count": 1017,
   "metadata": {},
   "outputs": [],
   "source": [
    "#Mean\n",
    "damage_mean = t_ap-t_dr\n",
    "human_ap_mean = 0\n",
    "\n",
    "if damage_mean > 0:\n",
    "    damage_mean += human_damage * 2\n",
    "elif damage_mean < 0:\n",
    "    hd_temp = (human_damage - abs(damage_mean)/2)\n",
    "    human_ap_mean = hd_temp*2 + abs(damage_mean)/2 if hd_temp > 0 else human_damage/2 \n",
    "\n",
    "e_ap = damage_mean + human_ap_mean\n",
    "\n",
    "hit_damage_mean = (e_ap * hit1 + t_ap + human_ap_mean if e_ap > 0 else 0 + t_ap + human_ap_mean)*.8"
   ]
  },
  {
   "cell_type": "code",
   "execution_count": 1018,
   "metadata": {},
   "outputs": [],
   "source": [
    "#damage range\n",
    "damage_low = (t_ap-7)-t_dr\n",
    "damage_high = (t_ap+7)-t_dr\n",
    "human_ap_low = 0    \n",
    "human_ap_high = 0\n",
    "\n",
    "if damage_low > 0:\n",
    "    damage_low += human_damage * 2\n",
    "elif damage_low < 0:\n",
    "    hd_temp = (human_damage - abs(damage_low)/2)\n",
    "    human_ap_low = hd_temp*2 + abs(damage_low)/2 if hd_temp > 0 else human_damage/2 \n",
    "\n",
    "if damage_high > 0:\n",
    "    damage_high += human_damage * 2\n",
    "elif damage_high < 0:\n",
    "    hd_temp = (human_damage - abs(damage_high)/2)\n",
    "    human_ap_high = hd_temp*2 + abs(damage_high)/2 if hd_temp > 0 else human_damage/2 \n",
    "\n",
    "e_ap_low = damage_low + human_ap_low\n",
    "e_ap_high = damage_high + human_ap_high\n",
    "\n",
    "hit_damage_low = (e_ap_low * hit1 + t_ap + human_ap_low if e_ap_low > 0 else 0 + t_ap + human_ap_low)*.8\n",
    "hit_damage_high = (e_ap_high * hit1 + t_ap + human_ap_high if e_ap_high > 0 else 0 + t_ap + human_ap_high)*.8"
   ]
  },
  {
   "cell_type": "code",
   "execution_count": 1019,
   "metadata": {},
   "outputs": [
    {
     "name": "stdout",
     "output_type": "stream",
     "text": [
      "mean hit is: 6229.992\n",
      "hit range is: 6136.8640000000005 - 6323.12\n"
     ]
    }
   ],
   "source": [
    "#outputs\n",
    "print(\"mean hit is:\", hit_damage_mean)\n",
    "print(\"hit range is:\", hit_damage_low, \"-\", hit_damage_high)\n",
    "# 350 e_ap + increases DR rate?, .72"
   ]
  }
 ],
 "metadata": {
  "kernelspec": {
   "display_name": "Python 3.10.5 64-bit (windows store)",
   "language": "python",
   "name": "python3"
  },
  "language_info": {
   "codemirror_mode": {
    "name": "ipython",
    "version": 3
   },
   "file_extension": ".py",
   "mimetype": "text/x-python",
   "name": "python",
   "nbconvert_exporter": "python",
   "pygments_lexer": "ipython3",
   "version": "3.10.5"
  },
  "orig_nbformat": 4,
  "vscode": {
   "interpreter": {
    "hash": "dcd9081d4ecf07a36cd958ad38b3c59d9ff604b7a6d5359a0eb669f3a39ef8a0"
   }
  }
 },
 "nbformat": 4,
 "nbformat_minor": 2
}
