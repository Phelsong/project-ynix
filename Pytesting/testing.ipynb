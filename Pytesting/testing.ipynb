{
 "cells": [
  {
   "cell_type": "code",
   "execution_count": 1,
   "metadata": {},
   "outputs": [],
   "source": [
    "#offensive stats\n",
    "ap = 525\n",
    "aap = 505\n",
    "acc = 814\n",
    "acc_rate = .07\n",
    "monster_ap = 196\n",
    "kama_damage = 34\n",
    "demi_damage = 18\n",
    "human_damage = 18\n",
    "crit_damage = 1\n",
    "back_damage = .5\n",
    "ap_combat_buffs = 50\n",
    "ap_debuffs = 0\n",
    "acc_combat_buffs = .06\n",
    "acc_debuffs = 0\n",
    "\n",
    "t_ap = ap + monster_ap + (kama_damage * 1.6) + ap_combat_buffs - ap_debuffs\n",
    "t_acc_rate = acc_rate + acc_combat_buffs + (acc * .21) - acc_debuffs"
   ]
  },
  {
   "cell_type": "code",
   "execution_count": 2,
   "metadata": {},
   "outputs": [],
   "source": [
    "#defensive_stats test\n",
    "dr_debuffs = 50\n",
    "dr_combat_buffs = 0\n",
    "evasion_combat_buffs = 0\n",
    "evasion_debuffs = .09\n",
    "dr = 450\n",
    "#dr_rate = 1\n",
    "evasion = 0 \n",
    "evasion_rate = 0\n",
    "\n",
    "t_dr = dr + dr_combat_buffs - dr_debuffs\n",
    "t_evasion_rate = evasion_rate + (evasion * .21) + evasion_combat_buffs - evasion_debuffs\n"
   ]
  },
  {
   "cell_type": "code",
   "execution_count": 6,
   "metadata": {},
   "outputs": [],
   "source": [
    "#test skill\n",
    "hit1=8.89\n",
    "hit1_count = 29\n",
    "hit2=8.89\n",
    "hit2_count = 27\n",
    "hit3=7.92\n",
    "hit3_count = 37\n",
    "#Critical Hit Rate +50% for attack 3 hits (PvE only)\n",
    "skill_accuracy = .11"
   ]
  },
  {
   "cell_type": "code",
   "execution_count": 8,
   "metadata": {},
   "outputs": [
    {
     "name": "stdout",
     "output_type": "stream",
     "text": [
      "mean hit is: 3787.306\n",
      "total possible skill hit1 damage is: 109831.874\n"
     ]
    }
   ],
   "source": [
    "#test output\n",
    "\n",
    "unmitigated_damage = t_ap-dr\n",
    "hit_damage = unmitigated_damage * hit1 + dr\n",
    "print(\"mean hit is:\", hit_damage)\n",
    "print(\"total possible skill hit1 damage is:\", hit_damage * hit1_count)"
   ]
  }
 ],
 "metadata": {
  "kernelspec": {
   "display_name": "Python 3.10.5 64-bit (windows store)",
   "language": "python",
   "name": "python3"
  },
  "language_info": {
   "codemirror_mode": {
    "name": "ipython",
    "version": 3
   },
   "file_extension": ".py",
   "mimetype": "text/x-python",
   "name": "python",
   "nbconvert_exporter": "python",
   "pygments_lexer": "ipython3",
   "version": "3.10.5"
  },
  "orig_nbformat": 4,
  "vscode": {
   "interpreter": {
    "hash": "dcd9081d4ecf07a36cd958ad38b3c59d9ff604b7a6d5359a0eb669f3a39ef8a0"
   }
  }
 },
 "nbformat": 4,
 "nbformat_minor": 2
}
