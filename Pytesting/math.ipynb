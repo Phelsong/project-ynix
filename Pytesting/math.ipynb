{
 "cells": [
  {
   "cell_type": "code",
   "execution_count": 1,
   "metadata": {},
   "outputs": [
    {
     "name": "stdout",
     "output_type": "stream",
     "text": [
      "825.4\n"
     ]
    }
   ],
   "source": [
    "#offensive stats\n",
    "ap = 525\n",
    "aap = 505\n",
    "accuracy = 814\n",
    "accuracy_rate = .07\n",
    "monster_ap = 196\n",
    "kama_damage = 34\n",
    "demi_damage = 18\n",
    "human_damage = 18\n",
    "crit_damage = 1\n",
    "back_damage = .5\n",
    "combat_buffs = 50\n",
    "\n",
    "t_ap = ap + monster_ap + (kama_damage * 1.6) + combat_buffs\n",
    "print(t_ap)"
   ]
  },
  {
   "cell_type": "code",
   "execution_count": 2,
   "metadata": {},
   "outputs": [],
   "source": [
    "#defensive_stats test\n",
    "dr = 450 - 50\n",
    "dr_rate = 1\n",
    "#evasion = ?\n",
    "#evasion_rate = ?\n"
   ]
  },
  {
   "cell_type": "code",
   "execution_count": 3,
   "metadata": {},
   "outputs": [],
   "source": [
    "#test skill\n",
    "hit1=8.89\n",
    "hit1_count = 29\n",
    "hit2=8.89\n",
    "hit2_count = 27\n",
    "hit3=7.92\n",
    "hit3_count = 37\n",
    "#Critical Hit Rate +50% for attack 3 hits (PvE only)\n",
    "#Accuracy Rate +11%"
   ]
  },
  {
   "cell_type": "code",
   "execution_count": 4,
   "metadata": {},
   "outputs": [
    {
     "name": "stdout",
     "output_type": "stream",
     "text": [
      "mean hit is: 4181.8060000000005\n"
     ]
    }
   ],
   "source": [
    "#test output\n",
    "\n",
    "mit_damage = t_ap-dr\n",
    "hit_damage = mit_damage * hit1 + dr\n",
    "print(\"mean hit is:\", hit_damage)"
   ]
  }
 ],
 "metadata": {
  "kernelspec": {
   "display_name": "Python 3.10.5 64-bit (windows store)",
   "language": "python",
   "name": "python3"
  },
  "language_info": {
   "codemirror_mode": {
    "name": "ipython",
    "version": 3
   },
   "file_extension": ".py",
   "mimetype": "text/x-python",
   "name": "python",
   "nbconvert_exporter": "python",
   "pygments_lexer": "ipython3",
   "version": "3.10.5"
  },
  "orig_nbformat": 4,
  "vscode": {
   "interpreter": {
    "hash": "dcd9081d4ecf07a36cd958ad38b3c59d9ff604b7a6d5359a0eb669f3a39ef8a0"
   }
  }
 },
 "nbformat": 4,
 "nbformat_minor": 2
}
